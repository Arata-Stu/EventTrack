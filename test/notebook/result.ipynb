{
 "cells": [
  {
   "cell_type": "code",
   "execution_count": null,
   "id": "ec44b008",
   "metadata": {},
   "outputs": [],
   "source": [
    "import pandas as pd\n",
    "import matplotlib.pyplot as plt\n",
    "\n",
    "# CSVデータを読み込む（ファイル名は適宜変更）\n",
    "df = pd.read_csv(\"../../result.csv\")\n",
    "print(df.columns.tolist())\n",
    "\n",
    "# グラフの描画\n",
    "models = df['model'].unique()\n",
    "datasets = df['dataset'].unique()\n",
    "\n",
    "for dataset in datasets:\n",
    "    plt.figure(figsize=(10, 6))\n",
    "    for model in models:\n",
    "        for bins in [1, 10]:\n",
    "            subset = df[(df['model'] == model) & \n",
    "                        (df['dataset'] == dataset) & \n",
    "                        (df['bins'] == bins)]\n",
    "            if not subset.empty:\n",
    "                subset = subset.sort_values('accum_t_ms')\n",
    "                label = f\"{model} (bins={bins})\"\n",
    "                plt.plot(subset['accum_t_ms'], subset['mAP'], marker='o', label=label)\n",
    "\n",
    "    plt.title(f\"Dataset: {dataset}\")\n",
    "    plt.xlabel(\"Accumulation Time (ms)\")\n",
    "    plt.ylabel(\"mAP\")\n",
    "    plt.legend()\n",
    "    plt.grid(True)\n",
    "    plt.tight_layout()\n",
    "    plt.savefig(f\"{dataset}_mAP_plot.png\")\n",
    "    plt.show()\n"
   ]
  },
  {
   "cell_type": "code",
   "execution_count": null,
   "id": "021ca5fe",
   "metadata": {},
   "outputs": [],
   "source": [
    "for model in df['model'].unique():\n",
    "    plt.figure(figsize=(10, 6))\n",
    "    for dataset in df['dataset'].unique():\n",
    "        for bins in [1, 10]:\n",
    "            sub = df[(df['model'] == model) & (df['dataset'] == dataset) & (df['bins'] == bins)]\n",
    "            if not sub.empty:\n",
    "                sub = sub.sort_values('accum_t_ms')\n",
    "                label = f\"{dataset} (bins={bins})\"\n",
    "                plt.plot(sub['accum_t_ms'], sub['mAP'], marker='o', label=label)\n",
    "    \n",
    "    plt.title(f\"Accumulation Effect on mAP - Model: {model}\")\n",
    "    plt.xlabel(\"Accumulation Time (ms)\")\n",
    "    plt.ylabel(\"mAP\")\n",
    "    plt.grid(True)\n",
    "    plt.legend()\n",
    "    plt.tight_layout()\n",
    "    plt.savefig(f\"{model}_accum_effect.png\")\n",
    "    plt.show()\n"
   ]
  },
  {
   "cell_type": "code",
   "execution_count": null,
   "id": "519fb1b4",
   "metadata": {},
   "outputs": [],
   "source": [
    "# 平均mAP（dataset × model × bins）で集計\n",
    "mean_map = df.groupby(['dataset', 'model', 'bins'])['mAP'].mean().reset_index()\n",
    "\n",
    "# 棒グラフ描画\n",
    "for dataset in df['dataset'].unique():\n",
    "    plt.figure(figsize=(8, 5))\n",
    "    sub = mean_map[mean_map['dataset'] == dataset]\n",
    "    for bins in [1, 10]:\n",
    "        bins_sub = sub[sub['bins'] == bins]\n",
    "        plt.bar(bins_sub['model'] + f' (bins={bins})', bins_sub['mAP'], label=f\"bins={bins}\")\n",
    "    \n",
    "    plt.title(f\"Average mAP per Model (Dataset: {dataset})\")\n",
    "    plt.ylabel(\"Average mAP\")\n",
    "    plt.xticks(rotation=45)\n",
    "    plt.legend()\n",
    "    plt.tight_layout()\n",
    "    plt.savefig(f\"{dataset}_avg_mAP_bar.png\")\n",
    "    plt.show()\n"
   ]
  },
  {
   "cell_type": "code",
   "execution_count": null,
   "id": "99afa721",
   "metadata": {},
   "outputs": [],
   "source": []
  }
 ],
 "metadata": {
  "kernelspec": {
   "display_name": "env",
   "language": "python",
   "name": "python3"
  },
  "language_info": {
   "codemirror_mode": {
    "name": "ipython",
    "version": 3
   },
   "file_extension": ".py",
   "mimetype": "text/x-python",
   "name": "python",
   "nbconvert_exporter": "python",
   "pygments_lexer": "ipython3",
   "version": "3.11.10"
  }
 },
 "nbformat": 4,
 "nbformat_minor": 5
}
